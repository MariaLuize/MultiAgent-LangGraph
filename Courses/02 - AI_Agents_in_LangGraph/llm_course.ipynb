{
 "cells": [
  {
   "cell_type": "markdown",
   "id": "3267bd3f-0465-42ce-8259-2785138a230c",
   "metadata": {},
   "source": [
    "# AI Agents in LangGraph\n",
    "https://learn.deeplearning.ai/courses/ai-agents-in-langgraph/lesson/qyrpc/introduction?utm_source=home&utm_medium=course-landing-page&utm_campaign=hero-cta-button"
   ]
  },
  {
   "cell_type": "code",
   "execution_count": null,
   "id": "05d6a5fe-956d-400e-b2ac-02c144800d7d",
   "metadata": {},
   "outputs": [],
   "source": []
  },
  {
   "cell_type": "code",
   "execution_count": null,
   "id": "f0bf93b0-c9cb-45aa-a927-78207b54ca4a",
   "metadata": {},
   "outputs": [],
   "source": []
  }
 ],
 "metadata": {
  "kernelspec": {
   "display_name": "venv_mb10-chat",
   "language": "python",
   "name": "venv_mb10-chat"
  },
  "language_info": {
   "codemirror_mode": {
    "name": "ipython",
    "version": 3
   },
   "file_extension": ".py",
   "mimetype": "text/x-python",
   "name": "python",
   "nbconvert_exporter": "python",
   "pygments_lexer": "ipython3",
   "version": "3.10.12"
  }
 },
 "nbformat": 4,
 "nbformat_minor": 5
}
